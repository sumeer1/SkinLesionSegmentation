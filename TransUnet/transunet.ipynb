{
  "cells": [
    {
      "cell_type": "code",
      "execution_count": null,
      "metadata": {
        "colab": {
          "base_uri": "https://localhost:8080/"
        },
        "id": "It8EAFLLxYa4",
        "outputId": "cfd61baa-8141-4645-bb0c-9dec05e1efd2"
      },
      "outputs": [
        {
          "output_type": "stream",
          "name": "stdout",
          "text": [
            "Collecting keras-unet-collection\n",
            "  Downloading keras_unet_collection-0.1.13-py3-none-any.whl (67 kB)\n",
            "\u001b[?25l\r\u001b[K     |████▉                           | 10 kB 21.9 MB/s eta 0:00:01\r\u001b[K     |█████████▋                      | 20 kB 23.3 MB/s eta 0:00:01\r\u001b[K     |██████████████▌                 | 30 kB 28.3 MB/s eta 0:00:01\r\u001b[K     |███████████████████▎            | 40 kB 32.6 MB/s eta 0:00:01\r\u001b[K     |████████████████████████▏       | 51 kB 8.1 MB/s eta 0:00:01\r\u001b[K     |█████████████████████████████   | 61 kB 9.4 MB/s eta 0:00:01\r\u001b[K     |████████████████████████████████| 67 kB 4.1 MB/s \n",
            "\u001b[?25hInstalling collected packages: keras-unet-collection\n",
            "Successfully installed keras-unet-collection-0.1.13\n"
          ]
        }
      ],
      "source": [
        "!pip install keras-unet-collection"
      ]
    },
    {
      "cell_type": "code",
      "source": [
        "!unzip '/content/drive/MyDrive/TransUnet/upwork_p20.zip' -d '/content/drive/MyDrive/TransUnet'"
      ],
      "metadata": {
        "id": "49jfgbSXGFG9"
      },
      "execution_count": null,
      "outputs": []
    },
    {
      "cell_type": "code",
      "execution_count": null,
      "metadata": {
        "colab": {
          "base_uri": "https://localhost:8080/"
        },
        "id": "MtrCrzAzyNMu",
        "outputId": "55d8032d-a036-41e1-8b7a-eefee80d3d7d"
      },
      "outputs": [
        {
          "output_type": "stream",
          "name": "stdout",
          "text": [
            "Mounted at /content/drive\n"
          ]
        }
      ],
      "source": [
        "from google.colab import drive\n",
        "drive.mount('/content/drive')"
      ]
    },
    {
      "cell_type": "code",
      "execution_count": null,
      "metadata": {
        "colab": {
          "base_uri": "https://localhost:8080/"
        },
        "id": "cIHMlOqOySku",
        "outputId": "4df73d26-8fe4-420e-a8c8-f6d8a5f4278f"
      },
      "outputs": [
        {
          "output_type": "stream",
          "name": "stdout",
          "text": [
            "/content/drive/MyDrive/TransUnet/upwork_p20\n"
          ]
        }
      ],
      "source": [
        "cd /content/drive/MyDrive/TransUnet/upwork_p20/"
      ]
    },
    {
      "cell_type": "code",
      "execution_count": null,
      "metadata": {
        "id": "SR9mWproyVj7"
      },
      "outputs": [],
      "source": [
        "from keras.models import Model, Sequential\n",
        "from keras.layers import Activation, Dense, BatchNormalization, Dropout, Conv2D, Conv2DTranspose, MaxPooling2D, UpSampling2D, Input, Reshape\n",
        "from keras.callbacks import EarlyStopping\n",
        "from keras import backend as K\n",
        "from tensorflow import keras\n",
        "import tensorflow as tf\n",
        "import numpy as np\n",
        "import pandas as pd\n",
        "import glob\n",
        "import PIL\n",
        "from PIL import Image\n",
        "import matplotlib.pyplot as plt\n",
        "import cv2\n",
        "%matplotlib inline\n",
        "\n",
        "from keras.preprocessing.image import ImageDataGenerator\n",
        "from sklearn.model_selection import train_test_split\n",
        "from warnings import filterwarnings\n",
        "\n",
        "filterwarnings('ignore')\n",
        "plt.rcParams[\"axes.grid\"] = False\n",
        "np.random.seed(101)"
      ]
    },
    {
      "cell_type": "code",
      "execution_count": null,
      "metadata": {
        "id": "59gCTGxxy_l3"
      },
      "outputs": [],
      "source": [
        "def iou(y_true, y_pred, smooth = 100):\n",
        "    intersection = K.sum(K.abs(y_true * y_pred), axis=-1)\n",
        "    sum_ = K.sum(K.square(y_true), axis = -1) + K.sum(K.square(y_pred), axis=-1)\n",
        "    jac = (intersection + smooth) / (sum_ - intersection + smooth)\n",
        "    return jac"
      ]
    },
    {
      "cell_type": "code",
      "execution_count": null,
      "metadata": {
        "id": "5j98_xQZy_oI"
      },
      "outputs": [],
      "source": [
        "def dice_coef(y_true, y_pred, smooth = 100):\n",
        "    y_true_f = K.flatten(y_true)\n",
        "    y_pred_f = K.flatten(y_pred)\n",
        "    intersection = K.sum(y_true_f * y_pred_f)\n",
        "    return (2. * intersection + smooth) / (K.sum(y_true_f) + K.sum(y_pred_f) + smooth)"
      ]
    },
    {
      "cell_type": "code",
      "execution_count": null,
      "metadata": {
        "id": "8RiL-TvSy_q8"
      },
      "outputs": [],
      "source": [
        "def precision(y_true, y_pred):\n",
        "    '''Calculates the precision, a metric for multi-label classification of\n",
        "    how many selected items are relevant.\n",
        "    '''\n",
        "    true_positives = K.sum(K.round(K.clip(y_true * y_pred, 0, 1)))\n",
        "    predicted_positives = K.sum(K.round(K.clip(y_pred, 0, 1)))\n",
        "    precision = true_positives / (predicted_positives + K.epsilon())\n",
        "    return precision"
      ]
    },
    {
      "cell_type": "code",
      "execution_count": null,
      "metadata": {
        "id": "YoBzQXiuzG-5"
      },
      "outputs": [],
      "source": [
        "def recall(y_true, y_pred):\n",
        "    '''Calculates the recall, a metric for multi-label classification of\n",
        "    how many relevant items are selected.\n",
        "    '''\n",
        "    true_positives = K.sum(K.round(K.clip(y_true * y_pred, 0, 1)))\n",
        "    possible_positives = K.sum(K.round(K.clip(y_true, 0, 1)))\n",
        "    recall = true_positives / (possible_positives + K.epsilon())\n",
        "    return recall"
      ]
    },
    {
      "cell_type": "code",
      "execution_count": null,
      "metadata": {
        "id": "y_UAewxfy_te"
      },
      "outputs": [],
      "source": [
        "def accuracy(y_true, y_pred):\n",
        "    '''Calculates the mean accuracy rate across all predictions for binary\n",
        "    classification problems.\n",
        "    '''\n",
        "    return K.mean(K.equal(y_true, K.round(y_pred)))"
      ]
    },
    {
      "cell_type": "code",
      "execution_count": null,
      "metadata": {
        "id": "MnOTRkPXyWeH"
      },
      "outputs": [],
      "source": [
        "import re\n",
        "numbers = re.compile(r'(\\d+)')\n",
        "def numericalSort(value):\n",
        "    parts = numbers.split(value)\n",
        "    parts[1::2] = map(int, parts[1::2])\n",
        "    return parts"
      ]
    },
    {
      "cell_type": "code",
      "execution_count": null,
      "metadata": {
        "id": "pi5dk5VPyZyW"
      },
      "outputs": [],
      "source": [
        "filelist_trainx = sorted(glob.glob('/content/drive/MyDrive/TransUnet/upwork_p20/isic2018_512/train/*.jpg'), key=numericalSort)\n",
        "X_train = np.array([np.array(Image.open(fname)) for fname in filelist_trainx])\n",
        "filelist_trainy = sorted(glob.glob('/content/drive/MyDrive/TransUnet/upwork_p20/isic2018_512/mask/*.png'), key=numericalSort)\n",
        "Y_train = np.array([np.array(Image.open(fname)) for fname in filelist_trainy])"
      ]
    },
    {
      "cell_type": "code",
      "source": [
        "X_train.shape"
      ],
      "metadata": {
        "colab": {
          "base_uri": "https://localhost:8080/"
        },
        "id": "YJ3U7gy54W32",
        "outputId": "6c54c62f-03e4-48b1-98a0-b3c6d518e485"
      },
      "execution_count": null,
      "outputs": [
        {
          "output_type": "execute_result",
          "data": {
            "text/plain": [
              "(2594, 512, 512, 3)"
            ]
          },
          "metadata": {},
          "execution_count": 8
        }
      ]
    },
    {
      "cell_type": "code",
      "execution_count": null,
      "metadata": {
        "id": "vYPUkVveyaO0"
      },
      "outputs": [],
      "source": [
        "x_train, x_test, y_train, y_test = train_test_split(X_train, Y_train, test_size = 0.25, random_state = 101)"
      ]
    },
    {
      "cell_type": "code",
      "source": [
        "Y_train.shape"
      ],
      "metadata": {
        "colab": {
          "base_uri": "https://localhost:8080/"
        },
        "id": "4idLwh0P4dtn",
        "outputId": "49bc24a9-7d5a-432f-a9e0-5622a95fb76a"
      },
      "execution_count": null,
      "outputs": [
        {
          "output_type": "execute_result",
          "data": {
            "text/plain": [
              "(2594, 512, 512)"
            ]
          },
          "metadata": {},
          "execution_count": 10
        }
      ]
    },
    {
      "cell_type": "code",
      "execution_count": null,
      "metadata": {
        "id": "SNDDmko-z_S_",
        "colab": {
          "base_uri": "https://localhost:8080/"
        },
        "outputId": "3f8c7c96-3fac-4d58-da0d-391b0843c2c4"
      },
      "outputs": [
        {
          "output_type": "stream",
          "name": "stdout",
          "text": [
            "Model: \"transunet_model\"\n",
            "__________________________________________________________________________________________________\n",
            " Layer (type)                   Output Shape         Param #     Connected to                     \n",
            "==================================================================================================\n",
            " input_1 (InputLayer)           [(None, 512, 512, 3  0           []                               \n",
            "                                )]                                                                \n",
            "                                                                                                  \n",
            " transunet_down0_0 (Conv2D)     (None, 512, 512, 64  1728        ['input_1[0][0]']                \n",
            "                                )                                                                 \n",
            "                                                                                                  \n",
            " transunet_down0_0_bn (BatchNor  (None, 512, 512, 64  256        ['transunet_down0_0[0][0]']      \n",
            " malization)                    )                                                                 \n",
            "                                                                                                  \n",
            " transunet_down0_0_activation (  (None, 512, 512, 64  0          ['transunet_down0_0_bn[0][0]']   \n",
            " ReLU)                          )                                                                 \n",
            "                                                                                                  \n",
            " transunet_down0_1 (Conv2D)     (None, 512, 512, 64  36864       ['transunet_down0_0_activation[0]\n",
            "                                )                                [0]']                            \n",
            "                                                                                                  \n",
            " transunet_down0_1_bn (BatchNor  (None, 512, 512, 64  256        ['transunet_down0_1[0][0]']      \n",
            " malization)                    )                                                                 \n",
            "                                                                                                  \n",
            " transunet_down0_1_activation (  (None, 512, 512, 64  0          ['transunet_down0_1_bn[0][0]']   \n",
            " ReLU)                          )                                                                 \n",
            "                                                                                                  \n",
            " transunet_down1_encode_maxpool  (None, 256, 256, 64  0          ['transunet_down0_1_activation[0]\n",
            "  (MaxPooling2D)                )                                [0]']                            \n",
            "                                                                                                  \n",
            " transunet_down1_conv_0 (Conv2D  (None, 256, 256, 12  73728      ['transunet_down1_encode_maxpool[\n",
            " )                              8)                               0][0]']                          \n",
            "                                                                                                  \n",
            " transunet_down1_conv_0_bn (Bat  (None, 256, 256, 12  512        ['transunet_down1_conv_0[0][0]'] \n",
            " chNormalization)               8)                                                                \n",
            "                                                                                                  \n",
            " transunet_down1_conv_0_activat  (None, 256, 256, 12  0          ['transunet_down1_conv_0_bn[0][0]\n",
            " ion (ReLU)                     8)                               ']                               \n",
            "                                                                                                  \n",
            " transunet_down1_conv_1 (Conv2D  (None, 256, 256, 12  147456     ['transunet_down1_conv_0_activati\n",
            " )                              8)                               on[0][0]']                       \n",
            "                                                                                                  \n",
            " transunet_down1_conv_1_bn (Bat  (None, 256, 256, 12  512        ['transunet_down1_conv_1[0][0]'] \n",
            " chNormalization)               8)                                                                \n",
            "                                                                                                  \n",
            " transunet_down1_conv_1_activat  (None, 256, 256, 12  0          ['transunet_down1_conv_1_bn[0][0]\n",
            " ion (ReLU)                     8)                               ']                               \n",
            "                                                                                                  \n",
            " transunet_down2_encode_maxpool  (None, 128, 128, 12  0          ['transunet_down1_conv_1_activati\n",
            "  (MaxPooling2D)                8)                               on[0][0]']                       \n",
            "                                                                                                  \n",
            " transunet_down2_conv_0 (Conv2D  (None, 128, 128, 25  294912     ['transunet_down2_encode_maxpool[\n",
            " )                              6)                               0][0]']                          \n",
            "                                                                                                  \n",
            " transunet_down2_conv_0_bn (Bat  (None, 128, 128, 25  1024       ['transunet_down2_conv_0[0][0]'] \n",
            " chNormalization)               6)                                                                \n",
            "                                                                                                  \n",
            " transunet_down2_conv_0_activat  (None, 128, 128, 25  0          ['transunet_down2_conv_0_bn[0][0]\n",
            " ion (ReLU)                     6)                               ']                               \n",
            "                                                                                                  \n",
            " transunet_down2_conv_1 (Conv2D  (None, 128, 128, 25  589824     ['transunet_down2_conv_0_activati\n",
            " )                              6)                               on[0][0]']                       \n",
            "                                                                                                  \n",
            " transunet_down2_conv_1_bn (Bat  (None, 128, 128, 25  1024       ['transunet_down2_conv_1[0][0]'] \n",
            " chNormalization)               6)                                                                \n",
            "                                                                                                  \n",
            " transunet_down2_conv_1_activat  (None, 128, 128, 25  0          ['transunet_down2_conv_1_bn[0][0]\n",
            " ion (ReLU)                     6)                               ']                               \n",
            "                                                                                                  \n",
            " transunet_down3_encode_maxpool  (None, 64, 64, 256)  0          ['transunet_down2_conv_1_activati\n",
            "  (MaxPooling2D)                                                 on[0][0]']                       \n",
            "                                                                                                  \n",
            " transunet_down3_conv_0 (Conv2D  (None, 64, 64, 512)  1179648    ['transunet_down3_encode_maxpool[\n",
            " )                                                               0][0]']                          \n",
            "                                                                                                  \n",
            " transunet_down3_conv_0_bn (Bat  (None, 64, 64, 512)  2048       ['transunet_down3_conv_0[0][0]'] \n",
            " chNormalization)                                                                                 \n",
            "                                                                                                  \n",
            " transunet_down3_conv_0_activat  (None, 64, 64, 512)  0          ['transunet_down3_conv_0_bn[0][0]\n",
            " ion (ReLU)                                                      ']                               \n",
            "                                                                                                  \n",
            " transunet_down3_conv_1 (Conv2D  (None, 64, 64, 512)  2359296    ['transunet_down3_conv_0_activati\n",
            " )                                                               on[0][0]']                       \n",
            "                                                                                                  \n",
            " transunet_down3_conv_1_bn (Bat  (None, 64, 64, 512)  2048       ['transunet_down3_conv_1[0][0]'] \n",
            " chNormalization)                                                                                 \n",
            "                                                                                                  \n",
            " transunet_down3_conv_1_activat  (None, 64, 64, 512)  0          ['transunet_down3_conv_1_bn[0][0]\n",
            " ion (ReLU)                                                      ']                               \n",
            "                                                                                                  \n",
            " transunet_conv_trans_before (C  (None, 64, 64, 512)  262144     ['transunet_down3_conv_1_activati\n",
            " onv2D)                                                          on[0][0]']                       \n",
            "                                                                                                  \n",
            " patch_extract (patch_extract)  (None, 4096, 512)    0           ['transunet_conv_trans_before[0][\n",
            "                                                                 0]']                             \n",
            "                                                                                                  \n",
            " patch_embedding (patch_embeddi  (None, 4096, 768)   3539712     ['patch_extract[0][0]']          \n",
            " ng)                                                                                              \n",
            "                                                                                                  \n",
            " transunet_ViT_0_layer_norm_1 (  (None, 4096, 768)   1536        ['patch_embedding[0][0]']        \n",
            " LayerNormalization)                                                                              \n",
            "                                                                                                  \n",
            " transunet_ViT_0_atten (MultiHe  (None, 4096, 768)   4723968     ['transunet_ViT_0_layer_norm_1[0]\n",
            " adAttention)                                                    [0]',                            \n",
            "                                                                  'transunet_ViT_0_layer_norm_1[0]\n",
            "                                                                 [0]']                            \n",
            "                                                                                                  \n",
            " transunet_ViT_0_skip_1 (Add)   (None, 4096, 768)    0           ['transunet_ViT_0_atten[0][0]',  \n",
            "                                                                  'patch_embedding[0][0]']        \n",
            "                                                                                                  \n",
            " transunet_ViT_0_layer_norm_2 (  (None, 4096, 768)   1536        ['transunet_ViT_0_skip_1[0][0]'] \n",
            " LayerNormalization)                                                                              \n",
            "                                                                                                  \n",
            " transunet_ViT_0_mlp_dense_0 (D  (None, 4096, 3072)  2362368     ['transunet_ViT_0_layer_norm_2[0]\n",
            " ense)                                                           [0]']                            \n",
            "                                                                                                  \n",
            " transunet_ViT_0_mlp_activation  (None, 4096, 3072)  0           ['transunet_ViT_0_mlp_dense_0[0][\n",
            " _0 (GELU)                                                       0]']                             \n",
            "                                                                                                  \n",
            " transunet_ViT_0_mlp_dense_1 (D  (None, 4096, 768)   2360064     ['transunet_ViT_0_mlp_activation_\n",
            " ense)                                                           0[0][0]']                        \n",
            "                                                                                                  \n",
            " transunet_ViT_0_mlp_activation  (None, 4096, 768)   0           ['transunet_ViT_0_mlp_dense_1[0][\n",
            " _1 (GELU)                                                       0]']                             \n",
            "                                                                                                  \n",
            " transunet_ViT_0_skip_2 (Add)   (None, 4096, 768)    0           ['transunet_ViT_0_mlp_activation_\n",
            "                                                                 1[0][0]',                        \n",
            "                                                                  'transunet_ViT_0_skip_1[0][0]'] \n",
            "                                                                                                  \n",
            " transunet_ViT_1_layer_norm_1 (  (None, 4096, 768)   1536        ['transunet_ViT_0_skip_2[0][0]'] \n",
            " LayerNormalization)                                                                              \n",
            "                                                                                                  \n",
            " transunet_ViT_1_atten (MultiHe  (None, 4096, 768)   4723968     ['transunet_ViT_1_layer_norm_1[0]\n",
            " adAttention)                                                    [0]',                            \n",
            "                                                                  'transunet_ViT_1_layer_norm_1[0]\n",
            "                                                                 [0]']                            \n",
            "                                                                                                  \n",
            " transunet_ViT_1_skip_1 (Add)   (None, 4096, 768)    0           ['transunet_ViT_1_atten[0][0]',  \n",
            "                                                                  'transunet_ViT_0_skip_2[0][0]'] \n",
            "                                                                                                  \n",
            " transunet_ViT_1_layer_norm_2 (  (None, 4096, 768)   1536        ['transunet_ViT_1_skip_1[0][0]'] \n",
            " LayerNormalization)                                                                              \n",
            "                                                                                                  \n",
            " transunet_ViT_1_mlp_dense_0 (D  (None, 4096, 3072)  2362368     ['transunet_ViT_1_layer_norm_2[0]\n",
            " ense)                                                           [0]']                            \n",
            "                                                                                                  \n",
            " transunet_ViT_1_mlp_activation  (None, 4096, 3072)  0           ['transunet_ViT_1_mlp_dense_0[0][\n",
            " _0 (GELU)                                                       0]']                             \n",
            "                                                                                                  \n",
            " transunet_ViT_1_mlp_dense_1 (D  (None, 4096, 768)   2360064     ['transunet_ViT_1_mlp_activation_\n",
            " ense)                                                           0[0][0]']                        \n",
            "                                                                                                  \n",
            " transunet_ViT_1_mlp_activation  (None, 4096, 768)   0           ['transunet_ViT_1_mlp_dense_1[0][\n",
            " _1 (GELU)                                                       0]']                             \n",
            "                                                                                                  \n",
            " transunet_ViT_1_skip_2 (Add)   (None, 4096, 768)    0           ['transunet_ViT_1_mlp_activation_\n",
            "                                                                 1[0][0]',                        \n",
            "                                                                  'transunet_ViT_1_skip_1[0][0]'] \n",
            "                                                                                                  \n",
            " tf.reshape (TFOpLambda)        (None, 64, 64, 768)  0           ['transunet_ViT_1_skip_2[0][0]'] \n",
            "                                                                                                  \n",
            " transunet_conv_trans_after (Co  (None, 64, 64, 512)  393216     ['tf.reshape[0][0]']             \n",
            " nv2D)                                                                                            \n",
            "                                                                                                  \n",
            " transunet_up0_decode_unpool (U  (None, 128, 128, 51  0          ['transunet_conv_trans_after[0][0\n",
            " pSampling2D)                   2)                               ]']                              \n",
            "                                                                                                  \n",
            " transunet_up0_conv_before_conc  (None, 128, 128, 25  1179648    ['transunet_up0_decode_unpool[0][\n",
            " at_0 (Conv2D)                  6)                               0]']                             \n",
            "                                                                                                  \n",
            " transunet_up0_conv_before_conc  (None, 128, 128, 25  1024       ['transunet_up0_conv_before_conca\n",
            " at_0_bn (BatchNormalization)   6)                               t_0[0][0]']                      \n",
            "                                                                                                  \n",
            " transunet_up0_conv_before_conc  (None, 128, 128, 25  0          ['transunet_up0_conv_before_conca\n",
            " at_0_activation (ReLU)         6)                               t_0_bn[0][0]']                   \n",
            "                                                                                                  \n",
            " transunet_up0_concat (Concaten  (None, 128, 128, 51  0          ['transunet_up0_conv_before_conca\n",
            " ate)                           2)                               t_0_activation[0][0]',           \n",
            "                                                                  'transunet_down2_conv_1_activati\n",
            "                                                                 on[0][0]']                       \n",
            "                                                                                                  \n",
            " transunet_up0_conv_after_conca  (None, 128, 128, 25  1179648    ['transunet_up0_concat[0][0]']   \n",
            " t_0 (Conv2D)                   6)                                                                \n",
            "                                                                                                  \n",
            " transunet_up0_conv_after_conca  (None, 128, 128, 25  1024       ['transunet_up0_conv_after_concat\n",
            " t_0_bn (BatchNormalization)    6)                               _0[0][0]']                       \n",
            "                                                                                                  \n",
            " transunet_up0_conv_after_conca  (None, 128, 128, 25  0          ['transunet_up0_conv_after_concat\n",
            " t_0_activation (ReLU)          6)                               _0_bn[0][0]']                    \n",
            "                                                                                                  \n",
            " transunet_up0_conv_after_conca  (None, 128, 128, 25  589824     ['transunet_up0_conv_after_concat\n",
            " t_1 (Conv2D)                   6)                               _0_activation[0][0]']            \n",
            "                                                                                                  \n",
            " transunet_up0_conv_after_conca  (None, 128, 128, 25  1024       ['transunet_up0_conv_after_concat\n",
            " t_1_bn (BatchNormalization)    6)                               _1[0][0]']                       \n",
            "                                                                                                  \n",
            " transunet_up0_conv_after_conca  (None, 128, 128, 25  0          ['transunet_up0_conv_after_concat\n",
            " t_1_activation (ReLU)          6)                               _1_bn[0][0]']                    \n",
            "                                                                                                  \n",
            " transunet_up1_decode_unpool (U  (None, 256, 256, 25  0          ['transunet_up0_conv_after_concat\n",
            " pSampling2D)                   6)                               _1_activation[0][0]']            \n",
            "                                                                                                  \n",
            " transunet_up1_conv_before_conc  (None, 256, 256, 12  294912     ['transunet_up1_decode_unpool[0][\n",
            " at_0 (Conv2D)                  8)                               0]']                             \n",
            "                                                                                                  \n",
            " transunet_up1_conv_before_conc  (None, 256, 256, 12  512        ['transunet_up1_conv_before_conca\n",
            " at_0_bn (BatchNormalization)   8)                               t_0[0][0]']                      \n",
            "                                                                                                  \n",
            " transunet_up1_conv_before_conc  (None, 256, 256, 12  0          ['transunet_up1_conv_before_conca\n",
            " at_0_activation (ReLU)         8)                               t_0_bn[0][0]']                   \n",
            "                                                                                                  \n",
            " transunet_up1_concat (Concaten  (None, 256, 256, 25  0          ['transunet_up1_conv_before_conca\n",
            " ate)                           6)                               t_0_activation[0][0]',           \n",
            "                                                                  'transunet_down1_conv_1_activati\n",
            "                                                                 on[0][0]']                       \n",
            "                                                                                                  \n",
            " transunet_up1_conv_after_conca  (None, 256, 256, 12  294912     ['transunet_up1_concat[0][0]']   \n",
            " t_0 (Conv2D)                   8)                                                                \n",
            "                                                                                                  \n",
            " transunet_up1_conv_after_conca  (None, 256, 256, 12  512        ['transunet_up1_conv_after_concat\n",
            " t_0_bn (BatchNormalization)    8)                               _0[0][0]']                       \n",
            "                                                                                                  \n",
            " transunet_up1_conv_after_conca  (None, 256, 256, 12  0          ['transunet_up1_conv_after_concat\n",
            " t_0_activation (ReLU)          8)                               _0_bn[0][0]']                    \n",
            "                                                                                                  \n",
            " transunet_up1_conv_after_conca  (None, 256, 256, 12  147456     ['transunet_up1_conv_after_concat\n",
            " t_1 (Conv2D)                   8)                               _0_activation[0][0]']            \n",
            "                                                                                                  \n",
            " transunet_up1_conv_after_conca  (None, 256, 256, 12  512        ['transunet_up1_conv_after_concat\n",
            " t_1_bn (BatchNormalization)    8)                               _1[0][0]']                       \n",
            "                                                                                                  \n",
            " transunet_up1_conv_after_conca  (None, 256, 256, 12  0          ['transunet_up1_conv_after_concat\n",
            " t_1_activation (ReLU)          8)                               _1_bn[0][0]']                    \n",
            "                                                                                                  \n",
            " transunet_up2_decode_unpool (U  (None, 512, 512, 12  0          ['transunet_up1_conv_after_concat\n",
            " pSampling2D)                   8)                               _1_activation[0][0]']            \n",
            "                                                                                                  \n",
            " transunet_up2_conv_before_conc  (None, 512, 512, 64  73728      ['transunet_up2_decode_unpool[0][\n",
            " at_0 (Conv2D)                  )                                0]']                             \n",
            "                                                                                                  \n",
            " transunet_up2_conv_before_conc  (None, 512, 512, 64  256        ['transunet_up2_conv_before_conca\n",
            " at_0_bn (BatchNormalization)   )                                t_0[0][0]']                      \n",
            "                                                                                                  \n",
            " transunet_up2_conv_before_conc  (None, 512, 512, 64  0          ['transunet_up2_conv_before_conca\n",
            " at_0_activation (ReLU)         )                                t_0_bn[0][0]']                   \n",
            "                                                                                                  \n",
            " transunet_up2_concat (Concaten  (None, 512, 512, 12  0          ['transunet_up2_conv_before_conca\n",
            " ate)                           8)                               t_0_activation[0][0]',           \n",
            "                                                                  'transunet_down0_1_activation[0]\n",
            "                                                                 [0]']                            \n",
            "                                                                                                  \n",
            " transunet_up2_conv_after_conca  (None, 512, 512, 64  73728      ['transunet_up2_concat[0][0]']   \n",
            " t_0 (Conv2D)                   )                                                                 \n",
            "                                                                                                  \n",
            " transunet_up2_conv_after_conca  (None, 512, 512, 64  256        ['transunet_up2_conv_after_concat\n",
            " t_0_bn (BatchNormalization)    )                                _0[0][0]']                       \n",
            "                                                                                                  \n",
            " transunet_up2_conv_after_conca  (None, 512, 512, 64  0          ['transunet_up2_conv_after_concat\n",
            " t_0_activation (ReLU)          )                                _0_bn[0][0]']                    \n",
            "                                                                                                  \n",
            " transunet_up2_conv_after_conca  (None, 512, 512, 64  36864      ['transunet_up2_conv_after_concat\n",
            " t_1 (Conv2D)                   )                                _0_activation[0][0]']            \n",
            "                                                                                                  \n",
            " transunet_up2_conv_after_conca  (None, 512, 512, 64  256        ['transunet_up2_conv_after_concat\n",
            " t_1_bn (BatchNormalization)    )                                _1[0][0]']                       \n",
            "                                                                                                  \n",
            " transunet_up2_conv_after_conca  (None, 512, 512, 64  0          ['transunet_up2_conv_after_concat\n",
            " t_1_activation (ReLU)          )                                _1_bn[0][0]']                    \n",
            "                                                                                                  \n",
            " transunet_output (Conv2D)      (None, 512, 512, 1)  65          ['transunet_up2_conv_after_concat\n",
            "                                                                 _1_activation[0][0]']            \n",
            "                                                                                                  \n",
            " transunet_output_activation (A  (None, 512, 512, 1)  0          ['transunet_output[0][0]']       \n",
            " ctivation)                                                                                       \n",
            "                                                                                                  \n",
            "==================================================================================================\n",
            "Total params: 31,661,313\n",
            "Trainable params: 31,654,785\n",
            "Non-trainable params: 6,528\n",
            "__________________________________________________________________________________________________\n"
          ]
        }
      ],
      "source": [
        "from keras_unet_collection import models\n",
        "\n",
        "model = models.transunet_2d((512, 512, 3), filter_num=[64, 128, 256, 512], n_labels=1, stack_num_down=2, stack_num_up=2,\n",
        "                                embed_dim=768, num_mlp=3072, num_heads=2, num_transformer=2,\n",
        "                                activation='ReLU', mlp_activation='GELU', output_activation='Sigmoid', \n",
        "                                batch_norm=True, pool=True, unpool='bilinear', name='transunet')\n",
        "    \n",
        "model.compile(optimizer= keras.optimizers.SGD(lr=0.001, momentum=0.9, decay=0.0005, nesterov=False), loss= [\"binary_crossentropy\"]\n",
        "              , metrics=[iou, dice_coef, precision, recall, accuracy])\n",
        "model.summary()\n",
        "\n",
        "#hist = model.fit(x_train, y_train, epochs= 100, batch_size= 1, validation_data= (x_test, y_test), verbose=1)"
      ]
    },
    {
      "cell_type": "code",
      "source": [
        "model.save('transunet_100_epoch.h5)"
      ],
      "metadata": {
        "id": "KPjL_vnbBg7Z"
      },
      "execution_count": null,
      "outputs": []
    },
    {
      "cell_type": "code",
      "source": [
        "model.load_weights('/content/drive/MyDrive/TransUnet/upwork_p20/transunet/transunet_100_epoch.h5')"
      ],
      "metadata": {
        "id": "m_5Mn9xWBlGD"
      },
      "execution_count": null,
      "outputs": []
    },
    {
      "cell_type": "code",
      "source": [
        "print('\\n~~~~~~~~~~~~~~~Stats after 100 epoch~~~~~~~~~~~~~~~~~~~')\n",
        "print('\\n-------------On Train Set--------------------------\\n')\n",
        "res = model.evaluate(x_train, y_train, batch_size= 18)\n",
        "print('________________________')\n",
        "print('IOU:       |   {:.2f}  |'.format(res[1]*100))\n",
        "print('Dice Coef: |   {:.2f}  |'.format(res[2]*100))\n",
        "print('Precision: |   {:.2f}  |'.format(res[3]*100))\n",
        "print('Recall:    |   {:.2f}  |'.format(res[4]*100))\n",
        "print('Accuracy:  |   {:.2f}  |'.format(res[5]*100))\n",
        "print(\"Loss:      |   {:.2f}  |\".format(res[0]*100))\n",
        "print('________________________')\n",
        "print('\\n-------------On Test  Set--------------------------\\n')\n",
        "res = model.evaluate(x_test, y_test, batch_size= 18)\n",
        "print('________________________')\n",
        "print('IOU:       |   {:.2f}  |'.format(res[1]*100))\n",
        "print('Dice Coef: |   {:.2f}  |'.format(res[2]*100))\n",
        "print('Precision: |   {:.2f}  |'.format(res[3]*100))\n",
        "print('Recall:    |   {:.2f}  |'.format(res[4]*100))\n",
        "print('Accuracy:  |   {:.2f}  |'.format(res[5]*100))\n",
        "print(\"Loss:      |   {:.2f}  |\".format(res[0]*100))\n",
        "print('________________________')\n",
        "print('\\n-------------On validation Set---------------------\\n')\n"
      ],
      "metadata": {
        "id": "oWOL705EBoga"
      },
      "execution_count": null,
      "outputs": []
    },
    {
      "cell_type": "code",
      "source": [
        "import matplotlib.pyplot as plt\n",
        "import cv2\n",
        "%matplotlib inline\n",
        "\n",
        "plt.figure(figsize=(20, 14))\n",
        "plt.suptitle('Training Statistics on Train Set')\n",
        "plt.subplot(2,2,1)\n",
        "plt.plot(hist.history['loss'], 'red')\n",
        "plt.title('Loss')\n",
        "plt.subplot(2,2,2)\n",
        "plt.plot(hist.history['accuracy'], 'green')\n",
        "plt.title('Accuracy')\n",
        "plt.subplot(2,2,3)\n",
        "plt.plot(hist.history['val_loss'], 'red')\n",
        "plt.yticks(list(np.arange(0.0, 1.0, 0.10)))\n",
        "plt.title('Valdiation Loss')\n",
        "plt.subplot(2,2,4)\n",
        "plt.plot(hist.history['val_accuracy'], 'green')\n",
        "plt.yticks(list(np.arange(0.0, 1.0, 0.10)))\n",
        "plt.title('Validation Accuracy')\n",
        "plt.show()"
      ],
      "metadata": {
        "id": "9LTOMNMPBojw"
      },
      "execution_count": null,
      "outputs": []
    },
    {
      "cell_type": "code",
      "source": [
        "img_num = 10\n",
        "img_pred = transunet_100_epoch.h5.predict(x_test[img_num].reshape(1,192,256,3))\n",
        "plt.figure(figsize=(16,16))\n",
        "plt.subplot(1,3,1)\n",
        "plt.imshow(x_test[img_num])\n",
        "plt.title('Original Image')\n",
        "plt.subplot(1,3,2)\n",
        "plt.imshow(y_test[img_num], plt.cm.binary_r)\n",
        "plt.title('Ground Truth')\n",
        "plt.subplot(1,3,3)\n",
        "plt.imshow(img_pred.reshape(192, 256), plt.cm.binary_r)\n",
        "plt.title('Predicted Output')\n",
        "plt.show()"
      ],
      "metadata": {
        "id": "yIf4GWL-BonO"
      },
      "execution_count": null,
      "outputs": []
    },
    {
      "cell_type": "code",
      "source": [
        "img_num = 36\n",
        "img_pred = model.predict(x_test[img_num].reshape(1,192,256,3))\n",
        "plt.figure(figsize=(16,16))\n",
        "plt.subplot(1,3,1)\n",
        "plt.imshow(x_test[img_num])\n",
        "plt.title('Original Image')\n",
        "plt.subplot(1,3,2)\n",
        "plt.imshow(y_test[img_num], plt.cm.binary_r)\n",
        "plt.title('Ground Truth')\n",
        "plt.subplot(1,3,3)\n",
        "plt.imshow(img_pred.reshape(192, 256), plt.cm.binary_r)\n",
        "plt.title('Predicted Output')\n",
        "plt.show()"
      ],
      "metadata": {
        "id": "A6YOBxtWBop8"
      },
      "execution_count": null,
      "outputs": []
    },
    {
      "cell_type": "code",
      "source": [
        "img_num = 32\n",
        "img_pred = model.predict(x_test[img_num].reshape(1,192,256,3))\n",
        "plt.figure(figsize=(16,16))\n",
        "plt.subplot(1,3,1)\n",
        "plt.imshow(x_test[img_num])\n",
        "plt.title('Original Image')\n",
        "plt.subplot(1,3,2)\n",
        "plt.imshow(y_test[img_num], plt.cm.binary_r)\n",
        "plt.title('Ground Truth')\n",
        "plt.subplot(1,3,3)\n",
        "plt.imshow(img_pred.reshape(192, 256), plt.cm.binary_r)\n",
        "plt.title('Predicted Output')\n",
        "plt.show()"
      ],
      "metadata": {
        "id": "YNBKxvsqBosv"
      },
      "execution_count": null,
      "outputs": []
    },
    {
      "cell_type": "code",
      "source": [
        "img_num = 29\n",
        "img_pred = model.predict(x_test[img_num].reshape(1,192,256,3))\n",
        "plt.figure(figsize=(16,16))\n",
        "plt.subplot(1,3,1)\n",
        "plt.imshow(x_test[img_num])\n",
        "plt.title('Original Image')\n",
        "plt.subplot(1,3,2)\n",
        "plt.imshow(y_test[img_num], plt.cm.binary_r)\n",
        "plt.title('Ground Truth')\n",
        "plt.subplot(1,3,3)\n",
        "plt.imshow(img_pred.reshape(192, 256), plt.cm.binary_r)\n",
        "plt.title('Predicted Output')\n",
        "plt.show()"
      ],
      "metadata": {
        "id": "KArhKRTPBovS"
      },
      "execution_count": null,
      "outputs": []
    },
    {
      "cell_type": "code",
      "source": [
        "img_num = 21\n",
        "img_pred = model.predict(x_test[img_num].reshape(1,192,256,3))\n",
        "plt.figure(figsize=(16,16))\n",
        "plt.subplot(1,3,1)\n",
        "plt.imshow(x_test[img_num])\n",
        "plt.title('Original Image')\n",
        "plt.subplot(1,3,2)\n",
        "plt.imshow(y_test[img_num], plt.cm.binary_r)\n",
        "plt.title('Ground Truth')\n",
        "plt.subplot(1,3,3)\n",
        "plt.imshow(img_pred.reshape(192, 256), plt.cm.binary_r)\n",
        "plt.title('Predicted Output')\n",
        "plt.show()"
      ],
      "metadata": {
        "id": "nz4gjq_NBz6Q"
      },
      "execution_count": null,
      "outputs": []
    }
  ],
  "metadata": {
    "colab": {
      "name": "transunet.ipynb",
      "provenance": []
    },
    "kernelspec": {
      "display_name": "Python 3",
      "name": "python3"
    },
    "language_info": {
      "name": "python"
    }
  },
  "nbformat": 4,
  "nbformat_minor": 0
}